{
  "cells": [
    {
      "cell_type": "markdown",
      "metadata": {
        "id": "view-in-github",
        "colab_type": "text"
      },
      "source": [
        "<a href=\"https://colab.research.google.com/github/AnasGamal/quantum-machine-learning-acmse-2025/blob/main/M1_Pennylane.ipynb\" target=\"_parent\"><img src=\"https://colab.research.google.com/assets/colab-badge.svg\" alt=\"Open In Colab\"/></a>"
      ]
    },
    {
      "cell_type": "code",
      "execution_count": null,
      "metadata": {
        "colab": {
          "base_uri": "https://localhost:8080/"
        },
        "id": "x5Ofbl8M9BPU",
        "outputId": "e9cfc7a6-fbb3-4cea-a1ed-04622dfbb0ba"
      },
      "outputs": [
        {
          "name": "stdout",
          "output_type": "stream",
          "text": [
            "Collecting pennylane\n",
            "  Downloading PennyLane-0.39.0-py3-none-any.whl.metadata (9.2 kB)\n",
            "Requirement already satisfied: numpy<2.1 in /usr/local/lib/python3.10/dist-packages (from pennylane) (1.26.4)\n",
            "Requirement already satisfied: scipy in /usr/local/lib/python3.10/dist-packages (from pennylane) (1.13.1)\n",
            "Requirement already satisfied: networkx in /usr/local/lib/python3.10/dist-packages (from pennylane) (3.4.2)\n",
            "Collecting rustworkx>=0.14.0 (from pennylane)\n",
            "  Downloading rustworkx-0.15.1-cp38-abi3-manylinux_2_17_x86_64.manylinux2014_x86_64.whl.metadata (9.9 kB)\n",
            "Requirement already satisfied: autograd in /usr/local/lib/python3.10/dist-packages (from pennylane) (1.7.0)\n",
            "Requirement already satisfied: toml in /usr/local/lib/python3.10/dist-packages (from pennylane) (0.10.2)\n",
            "Collecting appdirs (from pennylane)\n",
            "  Downloading appdirs-1.4.4-py2.py3-none-any.whl.metadata (9.0 kB)\n",
            "Collecting autoray>=0.6.11 (from pennylane)\n",
            "  Downloading autoray-0.7.0-py3-none-any.whl.metadata (5.8 kB)\n",
            "Requirement already satisfied: cachetools in /usr/local/lib/python3.10/dist-packages (from pennylane) (5.5.0)\n",
            "Collecting pennylane-lightning>=0.39 (from pennylane)\n",
            "  Downloading PennyLane_Lightning-0.39.0-cp310-cp310-manylinux_2_28_x86_64.whl.metadata (26 kB)\n",
            "Requirement already satisfied: requests in /usr/local/lib/python3.10/dist-packages (from pennylane) (2.32.3)\n",
            "Requirement already satisfied: typing-extensions in /usr/local/lib/python3.10/dist-packages (from pennylane) (4.12.2)\n",
            "Requirement already satisfied: packaging in /usr/local/lib/python3.10/dist-packages (from pennylane) (24.1)\n",
            "Requirement already satisfied: charset-normalizer<4,>=2 in /usr/local/lib/python3.10/dist-packages (from requests->pennylane) (3.4.0)\n",
            "Requirement already satisfied: idna<4,>=2.5 in /usr/local/lib/python3.10/dist-packages (from requests->pennylane) (3.10)\n",
            "Requirement already satisfied: urllib3<3,>=1.21.1 in /usr/local/lib/python3.10/dist-packages (from requests->pennylane) (2.2.3)\n",
            "Requirement already satisfied: certifi>=2017.4.17 in /usr/local/lib/python3.10/dist-packages (from requests->pennylane) (2024.8.30)\n",
            "Downloading PennyLane-0.39.0-py3-none-any.whl (1.9 MB)\n",
            "\u001b[2K   \u001b[90m━━━━━━━━━━━━━━━━━━━━━━━━━━━━━━━━━━━━━━━━\u001b[0m \u001b[32m1.9/1.9 MB\u001b[0m \u001b[31m22.6 MB/s\u001b[0m eta \u001b[36m0:00:00\u001b[0m\n",
            "\u001b[?25hDownloading autoray-0.7.0-py3-none-any.whl (930 kB)\n",
            "\u001b[2K   \u001b[90m━━━━━━━━━━━━━━━━━━━━━━━━━━━━━━━━━━━━━━━━\u001b[0m \u001b[32m930.0/930.0 kB\u001b[0m \u001b[31m37.6 MB/s\u001b[0m eta \u001b[36m0:00:00\u001b[0m\n",
            "\u001b[?25hDownloading PennyLane_Lightning-0.39.0-cp310-cp310-manylinux_2_28_x86_64.whl (1.7 MB)\n",
            "\u001b[2K   \u001b[90m━━━━━━━━━━━━━━━━━━━━━━━━━━━━━━━━━━━━━━━━\u001b[0m \u001b[32m1.7/1.7 MB\u001b[0m \u001b[31m22.3 MB/s\u001b[0m eta \u001b[36m0:00:00\u001b[0m\n",
            "\u001b[?25hDownloading rustworkx-0.15.1-cp38-abi3-manylinux_2_17_x86_64.manylinux2014_x86_64.whl (2.0 MB)\n",
            "\u001b[2K   \u001b[90m━━━━━━━━━━━━━━━━━━━━━━━━━━━━━━━━━━━━━━━━\u001b[0m \u001b[32m2.0/2.0 MB\u001b[0m \u001b[31m39.3 MB/s\u001b[0m eta \u001b[36m0:00:00\u001b[0m\n",
            "\u001b[?25hDownloading appdirs-1.4.4-py2.py3-none-any.whl (9.6 kB)\n",
            "Installing collected packages: appdirs, rustworkx, autoray, pennylane-lightning, pennylane\n",
            "Successfully installed appdirs-1.4.4 autoray-0.7.0 pennylane-0.39.0 pennylane-lightning-0.39.0 rustworkx-0.15.1\n",
            "Requirement already satisfied: scikit-learn in /usr/local/lib/python3.10/dist-packages (1.5.2)\n",
            "Requirement already satisfied: matplotlib in /usr/local/lib/python3.10/dist-packages (3.8.0)\n",
            "Requirement already satisfied: numpy in /usr/local/lib/python3.10/dist-packages (1.26.4)\n",
            "Requirement already satisfied: pandas in /usr/local/lib/python3.10/dist-packages (2.2.2)\n",
            "Requirement already satisfied: scipy>=1.6.0 in /usr/local/lib/python3.10/dist-packages (from scikit-learn) (1.13.1)\n",
            "Requirement already satisfied: joblib>=1.2.0 in /usr/local/lib/python3.10/dist-packages (from scikit-learn) (1.4.2)\n",
            "Requirement already satisfied: threadpoolctl>=3.1.0 in /usr/local/lib/python3.10/dist-packages (from scikit-learn) (3.5.0)\n",
            "Requirement already satisfied: contourpy>=1.0.1 in /usr/local/lib/python3.10/dist-packages (from matplotlib) (1.3.0)\n",
            "Requirement already satisfied: cycler>=0.10 in /usr/local/lib/python3.10/dist-packages (from matplotlib) (0.12.1)\n",
            "Requirement already satisfied: fonttools>=4.22.0 in /usr/local/lib/python3.10/dist-packages (from matplotlib) (4.54.1)\n",
            "Requirement already satisfied: kiwisolver>=1.0.1 in /usr/local/lib/python3.10/dist-packages (from matplotlib) (1.4.7)\n",
            "Requirement already satisfied: packaging>=20.0 in /usr/local/lib/python3.10/dist-packages (from matplotlib) (24.1)\n",
            "Requirement already satisfied: pillow>=6.2.0 in /usr/local/lib/python3.10/dist-packages (from matplotlib) (10.4.0)\n",
            "Requirement already satisfied: pyparsing>=2.3.1 in /usr/local/lib/python3.10/dist-packages (from matplotlib) (3.2.0)\n",
            "Requirement already satisfied: python-dateutil>=2.7 in /usr/local/lib/python3.10/dist-packages (from matplotlib) (2.8.2)\n",
            "Requirement already satisfied: pytz>=2020.1 in /usr/local/lib/python3.10/dist-packages (from pandas) (2024.2)\n",
            "Requirement already satisfied: tzdata>=2022.7 in /usr/local/lib/python3.10/dist-packages (from pandas) (2024.2)\n",
            "Requirement already satisfied: six>=1.5 in /usr/local/lib/python3.10/dist-packages (from python-dateutil>=2.7->matplotlib) (1.16.0)\n",
            "Requirement already satisfied: tqdm in /usr/local/lib/python3.10/dist-packages (4.66.6)\n"
          ]
        }
      ],
      "source": [
        "# Install necessary packages\n",
        "!pip install pennylane\n",
        "!pip install scikit-learn matplotlib numpy pandas\n",
        "!pip install tqdm"
      ]
    },
    {
      "cell_type": "code",
      "source": [
        "from google.colab import drive\n",
        "drive.mount('/content/drive')"
      ],
      "metadata": {
        "id": "PwG8MJ3NUQYF"
      },
      "execution_count": null,
      "outputs": []
    },
    {
      "cell_type": "code",
      "execution_count": null,
      "metadata": {
        "id": "HtSiHY889Dot"
      },
      "outputs": [],
      "source": [
        "import pennylane as qml  # Quantum machine learning library\n",
        "from pennylane import numpy as pnp  # NumPy optimized for PennyLane\n",
        "from sklearn.model_selection import train_test_split  # Data splitting\n",
        "from sklearn.preprocessing import StandardScaler, MinMaxScaler  # Data normalization\n",
        "from sklearn.svm import SVC  # Support Vector Classification\n",
        "from sklearn.metrics import accuracy_score  # Model evaluation\n",
        "import matplotlib.pyplot as plt  # Plotting\n",
        "import numpy as np  # Numerical computing\n",
        "import pandas as pd  # Data manipulation\n",
        "from tqdm import tqdm  # Progress bar\n",
        "import os  # File and directory operations"
      ]
    },
    {
      "cell_type": "code",
      "execution_count": null,
      "metadata": {
        "colab": {
          "base_uri": "https://localhost:8080/"
        },
        "id": "Zl5kY-XG9Ht6",
        "outputId": "77dc0c26-edc6-4e17-c8d4-244d11d4f3b6"
      },
      "outputs": [
        {
          "name": "stdout",
          "output_type": "stream",
          "text": [
            "Mounted at /content/drive\n"
          ]
        }
      ],
      "source": [
        "# Mount Google Drive to access the dataset\n",
        "from google.colab import drive\n",
        "drive.mount('/content/drive')\n",
        "\n",
        "# Load the dataset\n",
        "data_read_path = os.path.join(\"drive\", \"MyDrive\", \"Colab Notebooks\", \"Datasets\", \"Base.csv\")\n",
        "df = pd.read_csv(data_read_path).dropna()"
      ]
    },
    {
      "cell_type": "code",
      "execution_count": null,
      "metadata": {
        "id": "9vY0-JG09KzC"
      },
      "outputs": [],
      "source": [
        "# Preprocessing the dataset\n",
        "columns_to_drop = ['payment_type', 'employment_status', 'housing_status', 'source', 'device_os']\n",
        "df.drop(columns=columns_to_drop, axis=1, inplace=True, errors='ignore')  # Remove specified columns\n",
        "\n",
        "# Standardize all the features:\n",
        "x = StandardScaler().fit_transform(np.array(df.drop(columns=['fraud_bool'], inplace=False)))  # Standardize features excluding target\n",
        "\n",
        "# PCA fitting and transforming the data:\n",
        "from sklearn.decomposition import PCA\n",
        "pca = PCA(n_components=2)  # Initialize PCA with 2 components\n",
        "pca.fit(x)  # Fit PCA to the data\n",
        "x = pca.transform(x)  # Transform data to 2 principal components\n",
        "\n",
        "# Normalize the output to the range (-1, +1):\n",
        "minmax_scale = MinMaxScaler((-1, 1)).fit(x)  # Initialize and fit MinMaxScaler\n",
        "x = minmax_scale.transform(x).astype('float64')  # Apply scaling and convert to float64\n",
        "\n",
        "# Convert the target column to numerical codes\n",
        "y = np.array(df['fraud_bool'].astype('category').cat.codes.astype('float64'))  # Encode target as numerical values\n",
        "\n",
        "# Split the dataset into training and testing sets\n",
        "X_train, X_test, y_train, y_test = train_test_split(x, y, train_size=0.001, test_size=0.001, random_state=0)  # Split data with very small train and test sets"
      ]
    },
    {
      "cell_type": "markdown",
      "metadata": {
        "id": "YvTBSOLv9NTb"
      },
      "source": [
        "# Classical Machine Learning Model"
      ]
    },
    {
      "cell_type": "code",
      "execution_count": null,
      "metadata": {
        "colab": {
          "base_uri": "https://localhost:8080/"
        },
        "id": "FexW_6si9Vf7",
        "outputId": "ae3b2519-b199-44e0-fed4-3aaaf4246bf4"
      },
      "outputs": [
        {
          "name": "stdout",
          "output_type": "stream",
          "text": [
            "Classical SVM accuracy: 0.99\n"
          ]
        }
      ],
      "source": [
        "# Train a classical SVM model\n",
        "classifier = SVC(kernel='linear', random_state=0)\n",
        "classifier.fit(X_train, y_train)\n",
        "\n",
        "# Evaluate the classical SVM model\n",
        "y_pred_classical = classifier.predict(X_test)\n",
        "Accuracy_Classical = accuracy_score(y_test, y_pred_classical)\n",
        "print(\"Classical SVM accuracy:\", Accuracy_Classical)"
      ]
    },
    {
      "cell_type": "markdown",
      "metadata": {
        "id": "kfCb7I8g9c79"
      },
      "source": [
        "# Quantum SVM Implementation with PennyLane"
      ]
    },
    {
      "cell_type": "code",
      "execution_count": null,
      "metadata": {
        "id": "qlscwSYJgv32"
      },
      "outputs": [],
      "source": [
        "# Define the quantum device\n",
        "n_qubits = 2  # Number of qubits to use\n",
        "dev = qml.device(\"default.qubit\", wires=n_qubits)  # Initialize a quantum device with 2 qubits\n",
        "\n",
        "# Define the quantum circuit with a feature map (different gates are used to implement feature mapping)\n",
        "def feature_map(x):\n",
        "    # Apply Hadamard gates to create superposition\n",
        "    for i in range(n_qubits):\n",
        "        qml.Hadamard(wires=i)\n",
        "        qml.RY(x[i], wires=i)  # Encode feature values using RY rotation\n",
        "\n",
        "    # Apply entangling operations\n",
        "    for i in range(n_qubits - 1):\n",
        "        qml.CNOT(wires=[i, i + 1])  # Entangle adjacent qubits\n",
        "        qml.RZ(np.pi / 4, wires=i + 1)  # Apply phase rotation\n",
        "        qml.CNOT(wires=[i, i + 1])  # Reverse entanglement"
      ]
    },
    {
      "cell_type": "code",
      "execution_count": null,
      "metadata": {
        "colab": {
          "background_save": true,
          "base_uri": "https://localhost:8080/"
        },
        "id": "2usnxyqR9iDb",
        "outputId": "162a18e9-6c60-4db2-d481-c99a48c05512"
      },
      "outputs": [
        {
          "name": "stdout",
          "output_type": "stream",
          "text": [
            "Computing training kernel matrix...\n"
          ]
        },
        {
          "name": "stderr",
          "output_type": "stream",
          "text": [
            "Training Kernel Matrix: 100%|██████████| 1000/1000 [1:20:01<00:00,  4.80s/it]\n"
          ]
        },
        {
          "name": "stdout",
          "output_type": "stream",
          "text": [
            "Computing testing kernel matrix...\n"
          ]
        },
        {
          "name": "stderr",
          "output_type": "stream",
          "text": [
            "Testing Kernel Matrix:  51%|█████     | 511/1000 [39:58<40:40,  4.99s/it]"
          ]
        }
      ],
      "source": [
        "# Define the quantum kernel\n",
        "@qml.qnode(dev)\n",
        "def quantum_kernel(x1, x2):\n",
        "    feature_map(x1)  # Apply feature map to first input\n",
        "    qml.adjoint(feature_map)(x2)  # Apply adjoint of feature map to second input\n",
        "    return qml.expval(qml.PauliZ(0))  # Measure expectation value of PauliZ on first qubit\n",
        "\n",
        "# Function to compute the kernel matrix with progress bar\n",
        "def compute_kernel_matrix(data1, data2, desc=\"Kernel Matrix\"):\n",
        "    kernel_matrix = np.zeros((len(data1), len(data2)))  # Initialize kernel matrix\n",
        "    for i, x1 in enumerate(tqdm(data1, desc=desc)):  # Iterate over first dataset with progress bar\n",
        "        for j, x2 in enumerate(data2):  # Iterate over second dataset\n",
        "            kernel_matrix[i, j] = quantum_kernel(x1, x2)  # Compute kernel value\n",
        "    return kernel_matrix\n",
        "\n",
        "# Compute kernel matrices for QSVM with progress bars\n",
        "print(\"Computing training kernel matrix...\")\n",
        "kernel_matrix_train = compute_kernel_matrix(X_train, X_train, desc=\"Training Kernel Matrix\")\n",
        "\n",
        "print(\"Computing testing kernel matrix...\")\n",
        "kernel_matrix_test = compute_kernel_matrix(X_test, X_train, desc=\"Testing Kernel Matrix\")"
      ]
    },
    {
      "cell_type": "code",
      "execution_count": null,
      "metadata": {
        "colab": {
          "background_save": true
        },
        "id": "TsFWzje-9lgp",
        "outputId": "131e92cb-0f5a-4522-9bcc-93fb6079340c"
      },
      "outputs": [
        {
          "name": "stdout",
          "output_type": "stream",
          "text": [
            "Quantum QSVM accuracy: 0.99\n"
          ]
        }
      ],
      "source": [
        "# Train the QSVM model using the quantum kernel\n",
        "qsvm_classifier = SVC(kernel='precomputed')  # Initialize SVM classifier with precomputed kernel\n",
        "qsvm_classifier.fit(kernel_matrix_train, y_train)  # Train the classifier using the quantum kernel matrix\n",
        "\n",
        "# Predict using the QSVM model\n",
        "y_pred_qsvm = qsvm_classifier.predict(kernel_matrix_test)  # Make predictions on test data\n",
        "\n",
        "# Evaluate the QSVM model\n",
        "Accuracy_Quantum = accuracy_score(y_test, y_pred_qsvm)  # Calculate accuracy of QSVM\n",
        "print(\"Quantum QSVM accuracy:\", Accuracy_Quantum)  # Print the accuracy"
      ]
    },
    {
      "cell_type": "code",
      "execution_count": null,
      "metadata": {
        "colab": {
          "background_save": true
        },
        "id": "Jrx4O70x9pWQ",
        "outputId": "97bd322d-9ebc-4da3-dac0-09519a8bbfcb"
      },
      "outputs": [
        {
          "data": {
            "image/png": "[encoded data removed]",
            "text/plain": [
              "<Figure size 640x480 with 1 Axes>"
            ]
          },
          "metadata": {},
          "output_type": "display_data"
        }
      ],
      "source": [
        "# Plot the comparison of accuracies\n",
        "models = ['Classical SVM', 'Quantum SVM']  # Labels for the models\n",
        "accuracies = [Accuracy_Classical, Accuracy_Quantum]  # Accuracies of the models\n",
        "\n",
        "# Create a bar plot\n",
        "plt.bar(models, accuracies, color=['green', 'blue'])  # Plot bars with specified colors\n",
        "\n",
        "# Add title and labels\n",
        "plt.title('Comparison of Accuracies for Classical SVM and Quantum SVM')\n",
        "plt.xlabel('Models')\n",
        "plt.ylabel('Accuracy')\n",
        "\n",
        "# Display the plot\n",
        "plt.show()"
      ]
    }
  ],
  "metadata": {
    "colab": {
      "provenance": [],
      "include_colab_link": true
    },
    "kernelspec": {
      "display_name": "Python 3",
      "name": "python3"
    },
    "language_info": {
      "name": "python"
    }
  },
  "nbformat": 4,
  "nbformat_minor": 0
}